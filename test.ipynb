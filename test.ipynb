{
 "cells": [
  {
   "cell_type": "code",
   "execution_count": 1,
   "source": [
    "%load_ext autoreload \n",
    "%autoreload 2\n",
    "import torch\n",
    "import torch.nn as nn\n",
    "import torch.nn.functional as F\n",
    "import torch.distributions as dists\n",
    "import pytorch_lightning as pl\n",
    "from torchvision.utils import make_grid\n",
    "from experiments.vae import VAE\n",
    "from torchvision import datasets, transforms\n",
    "from torch.utils.data import DataLoader\n",
    "\n",
    "from src.api import *"
   ],
   "outputs": [],
   "metadata": {}
  },
  {
   "cell_type": "code",
   "execution_count": 12,
   "source": [
    "\n",
    "transform = transforms.Compose([\n",
    "    transforms.ToTensor(),\n",
    "    transforms.Resize((64, 64)),\n",
    "])\n",
    "\n",
    "data_train = datasets.MNIST(root=\"datasets/\", train=True, transform=transform)\n",
    "data_test = datasets.MNIST(root=\"datasets/\", train=False, transform=transform)\n",
    "train_loader = DataLoader(data_train, batch_size=48, shuffle=True, num_workers=8)\n",
    "\n",
    "x, y = data_train[0]\n",
    "z_dim = 100\n",
    "\n",
    "x.size()\n",
    "\n",
    "hidden_units = [x.size().numel(), 128, 128, 64]\n",
    "def build_mlp(hidden_units: list, activation=nn.LeakyReLU) -> nn.Module:\n",
    "    layers = []\n",
    "    for in_features, out_features in zip(hidden_units, hidden_units[1:]):\n",
    "        layers.append(nn.Linear(in_features, out_features))\n",
    "        layers.append(activation())\n",
    "    return nn.Sequential(*layers)\n",
    "\n",
    "build_mlp(hidden_units)\n"
   ],
   "outputs": [
    {
     "output_type": "execute_result",
     "data": {
      "text/plain": [
       "[(4096, 128), (128, 128), (128, 64)]"
      ]
     },
     "metadata": {},
     "execution_count": 12
    }
   ],
   "metadata": {}
  },
  {
   "cell_type": "code",
   "execution_count": 3,
   "source": [
    "model = VAE(e, d, pz)\n",
    "trainer = pl.Trainer(gpus=1, )\n",
    "trainer.fit(model, train_loader)"
   ],
   "outputs": [
    {
     "output_type": "stream",
     "name": "stderr",
     "text": [
      "GPU available: True, used: True\n",
      "TPU available: False, using: 0 TPU cores\n",
      "IPU available: False, using: 0 IPUs\n",
      "LOCAL_RANK: 0 - CUDA_VISIBLE_DEVICES: [0,1]\n",
      "\n",
      "  | Name    | Type  | Params\n",
      "----------------------------------\n",
      "0 | encoder | Chain | 879 K \n",
      "1 | decoder | Chain | 473 K \n",
      "----------------------------------\n",
      "1.4 M     Trainable params\n",
      "0         Non-trainable params\n",
      "1.4 M     Total params\n",
      "5.414     Total estimated model params size (MB)\n"
     ]
    },
    {
     "output_type": "display_data",
     "data": {
      "text/plain": [
       "Training: -1it [00:00, ?it/s]"
      ],
      "application/vnd.jupyter.widget-view+json": {
       "version_major": 2,
       "version_minor": 0,
       "model_id": "b65b4a840d2a40038ea531aa60150bd7"
      }
     },
     "metadata": {}
    },
    {
     "output_type": "stream",
     "name": "stderr",
     "text": [
      "/home/xbt/anaconda3/envs/neuro/lib/python3.8/site-packages/pytorch_lightning/trainer/trainer.py:1047: UserWarning: Detected KeyboardInterrupt, attempting graceful shutdown...\n",
      "  rank_zero_warn(\"Detected KeyboardInterrupt, attempting graceful shutdown...\")\n"
     ]
    }
   ],
   "metadata": {}
  }
 ],
 "metadata": {
  "orig_nbformat": 4,
  "language_info": {
   "name": "python",
   "version": "3.8.10",
   "mimetype": "text/x-python",
   "codemirror_mode": {
    "name": "ipython",
    "version": 3
   },
   "pygments_lexer": "ipython3",
   "nbconvert_exporter": "python",
   "file_extension": ".py"
  },
  "kernelspec": {
   "name": "python3",
   "display_name": "Python 3.8.10 64-bit ('neuro': conda)"
  },
  "interpreter": {
   "hash": "d8080eef275ddaf70dd3e882ff793d6efaa2f0cb1e359f5038b78d18cd70dc3b"
  }
 },
 "nbformat": 4,
 "nbformat_minor": 2
}