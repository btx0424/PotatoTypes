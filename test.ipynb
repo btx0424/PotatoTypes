{
 "cells": [
  {
   "cell_type": "code",
   "execution_count": 2,
   "source": [
    "%load_ext autoreload \n",
    "%autoreload 2\n",
    "import torch\n",
    "import torch.nn as nn\n",
    "import torch.distributions as dist\n",
    "from src.utils import Chain, Parallel"
   ],
   "outputs": [
    {
     "output_type": "stream",
     "name": "stdout",
     "text": [
      "The autoreload extension is already loaded. To reload it, use:\n",
      "  %reload_ext autoreload\n"
     ]
    }
   ],
   "metadata": {}
  },
  {
   "cell_type": "code",
   "execution_count": 5,
   "source": [
    "m = Chain([\n",
    "    nn.Linear(20, 10),\n",
    "    nn.LeakyReLU(),\n",
    "    nn.Linear(10, 20),\n",
    "    lambda x: torch.chunk(x, 2, dim=1),\n",
    "    lambda mean, logstd: dist.Normal(mean, torch.exp(logstd))\n",
    "])\n",
    "m(torch.rand(1, 20)).sample()"
   ],
   "outputs": [
    {
     "output_type": "execute_result",
     "data": {
      "text/plain": [
       "tensor([[-0.7381,  0.0272,  0.3722, -2.3978, -0.0455,  0.8630,  0.2233, -0.4879,\n",
       "          0.7512,  0.5304]])"
      ]
     },
     "metadata": {},
     "execution_count": 5
    }
   ],
   "metadata": {}
  },
  {
   "cell_type": "code",
   "execution_count": null,
   "source": [
    "class VAE(nn.Module):\n",
    "    def __init__(self, input_size):\n",
    "        super().__init__()\n",
    "        self.encoder\n",
    "        self.decoder\n",
    "        self.pz\n",
    "        \n",
    "    def forward(self, x):\n",
    "        pass\n"
   ],
   "outputs": [],
   "metadata": {}
  }
 ],
 "metadata": {
  "orig_nbformat": 4,
  "language_info": {
   "name": "python",
   "version": "3.8.10",
   "mimetype": "text/x-python",
   "codemirror_mode": {
    "name": "ipython",
    "version": 3
   },
   "pygments_lexer": "ipython3",
   "nbconvert_exporter": "python",
   "file_extension": ".py"
  },
  "kernelspec": {
   "name": "python3",
   "display_name": "Python 3.8.10 64-bit ('neuro': conda)"
  },
  "interpreter": {
   "hash": "d8080eef275ddaf70dd3e882ff793d6efaa2f0cb1e359f5038b78d18cd70dc3b"
  }
 },
 "nbformat": 4,
 "nbformat_minor": 2
}