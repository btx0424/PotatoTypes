{
 "cells": [
  {
   "cell_type": "code",
   "execution_count": 6,
   "source": [
    "%load_ext autoreload \n",
    "%autoreload 2\n",
    "import torch\n",
    "import torch.nn as nn\n",
    "import torch.nn.functional as F\n",
    "import torch.distributions as dist\n",
    "from src.utils import *"
   ],
   "outputs": [
    {
     "output_type": "stream",
     "name": "stdout",
     "text": [
      "The autoreload extension is already loaded. To reload it, use:\n",
      "  %reload_ext autoreload\n"
     ]
    }
   ],
   "metadata": {}
  },
  {
   "cell_type": "code",
   "execution_count": 10,
   "source": [
    "m = Chain([\n",
    "    BayesianConv2d(1, 16, 3, padding=1),\n",
    "])\n",
    "out = m(torch.ones(1, 1, 28, 28)).rsample()\n",
    "loss = F.mse_loss(out, torch.zeros_like(out))\n",
    "loss.backward()\n"
   ],
   "outputs": [],
   "metadata": {}
  },
  {
   "cell_type": "code",
   "execution_count": 5,
   "source": [
    "from torchvision import datasets, transforms\n",
    "from torch.utils.data import DataLoader\n",
    "transform = transforms.ToTensor()\n",
    "data_train = datasets.MNIST(root=\"\", train=True, transform=transform)\n",
    "data_test = datasets.MNIST(root=\"\", train=False, transform=transform)\n",
    "loader_train = DataLoader(data_train, batch_size=1, shuffle=True)\n",
    "\n"
   ],
   "outputs": [
    {
     "output_type": "execute_result",
     "data": {
      "text/plain": [
       "torch.Size([20, 10])"
      ]
     },
     "metadata": {},
     "execution_count": 5
    }
   ],
   "metadata": {}
  }
 ],
 "metadata": {
  "orig_nbformat": 4,
  "language_info": {
   "name": "python",
   "version": "3.8.10",
   "mimetype": "text/x-python",
   "codemirror_mode": {
    "name": "ipython",
    "version": 3
   },
   "pygments_lexer": "ipython3",
   "nbconvert_exporter": "python",
   "file_extension": ".py"
  },
  "kernelspec": {
   "name": "python3",
   "display_name": "Python 3.8.10 64-bit ('neuro': conda)"
  },
  "interpreter": {
   "hash": "d8080eef275ddaf70dd3e882ff793d6efaa2f0cb1e359f5038b78d18cd70dc3b"
  }
 },
 "nbformat": 4,
 "nbformat_minor": 2
}