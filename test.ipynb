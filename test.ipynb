{
 "cells": [
  {
   "cell_type": "code",
   "execution_count": 4,
   "source": [
    "%load_ext autoreload \r\n",
    "%autoreload 2\r\n",
    "import torch\r\n",
    "import torch.nn as nn\r\n",
    "import torch.nn.functional as F\r\n",
    "import torch.distributions as dists\r\n",
    "import pytorch_lightning as pl\r\n",
    "from torchvision.utils import make_grid\r\n",
    "from experiments.vae import VAE\r\n",
    "from torchvision import datasets, transforms\r\n",
    "from torch.utils.data import DataLoader\r\n",
    "\r\n",
    "from src.api import *\r\n",
    "from src.utils import *\r\n"
   ],
   "outputs": [],
   "metadata": {}
  },
  {
   "cell_type": "code",
   "execution_count": 16,
   "source": [
    "\r\n",
    "transform = transforms.Compose([\r\n",
    "    transforms.ToTensor(),\r\n",
    "    transforms.Resize((64, 64)),\r\n",
    "])\r\n",
    "\r\n",
    "data_train = datasets.MNIST(root=\"datasets/\", train=True, transform=transform)\r\n",
    "data_test = datasets.MNIST(root=\"datasets/\", train=False, transform=transform)\r\n",
    "train_loader = DataLoader(data_train, batch_size=48, shuffle=True, num_workers=8)\r\n",
    "\r\n",
    "x, y = data_train[0]\r\n",
    "x.size()\r\n",
    "\r\n",
    "\r\n"
   ],
   "outputs": [
    {
     "output_type": "execute_result",
     "data": {
      "text/plain": [
       "tensor(0.1038, grad_fn=<MseLossBackward>)"
      ]
     },
     "metadata": {},
     "execution_count": 16
    }
   ],
   "metadata": {}
  },
  {
   "cell_type": "code",
   "execution_count": 3,
   "source": [
    "model = VAE(e, d, pz)\r\n",
    "trainer = pl.Trainer(gpus=1, )\r\n",
    "trainer.fit(model, train_loader)"
   ],
   "outputs": [
    {
     "output_type": "stream",
     "name": "stderr",
     "text": [
      "GPU available: True, used: True\n",
      "TPU available: False, using: 0 TPU cores\n",
      "IPU available: False, using: 0 IPUs\n",
      "LOCAL_RANK: 0 - CUDA_VISIBLE_DEVICES: [0,1]\n",
      "\n",
      "  | Name    | Type  | Params\n",
      "----------------------------------\n",
      "0 | encoder | Chain | 879 K \n",
      "1 | decoder | Chain | 473 K \n",
      "----------------------------------\n",
      "1.4 M     Trainable params\n",
      "0         Non-trainable params\n",
      "1.4 M     Total params\n",
      "5.414     Total estimated model params size (MB)\n"
     ]
    },
    {
     "output_type": "display_data",
     "data": {
      "text/plain": [
       "Training: -1it [00:00, ?it/s]"
      ],
      "application/vnd.jupyter.widget-view+json": {
       "version_major": 2,
       "version_minor": 0,
       "model_id": "b65b4a840d2a40038ea531aa60150bd7"
      }
     },
     "metadata": {}
    },
    {
     "output_type": "stream",
     "name": "stderr",
     "text": [
      "/home/xbt/anaconda3/envs/neuro/lib/python3.8/site-packages/pytorch_lightning/trainer/trainer.py:1047: UserWarning: Detected KeyboardInterrupt, attempting graceful shutdown...\n",
      "  rank_zero_warn(\"Detected KeyboardInterrupt, attempting graceful shutdown...\")\n"
     ]
    }
   ],
   "metadata": {}
  },
  {
   "cell_type": "code",
   "execution_count": null,
   "source": [
    "# z2_dim = 128\r\n",
    "# z1_dim = 64\r\n",
    "\r\n",
    "# mlp1 = build_mlp([x.numel(), 128, 128, z2_dim])\r\n",
    "# mlp2 = build_mlp([z2_dim, 64, 64, 2*z1_dim])\r\n",
    "\r\n",
    "# e = Chain([\r\n",
    "#     mlp1,\r\n",
    "#     Split(mlp2, nn.Linear(z2_dim, 2*z2_dim)),\r\n",
    "#     Parallel(chunk(2, 1), chunk(2, 1)),\r\n",
    "#     Parallel(make_normal, make_normal)\r\n",
    "# ])\r\n",
    "\r\n",
    "# q1, q2 = e(torch.flatten(x, 1))\r\n",
    "# z1, z2 = q1.sample(), q2.sample()\r\n",
    "\r\n",
    "# mlp3 = build_mlp([z1_dim, 64, z2_dim])\r\n",
    "# mlp4 = build_mlp([2*z2_dim, 128, x.numel()])\r\n",
    "\r\n",
    "# aux = []\r\n",
    "# d = Chain([\r\n",
    "#     Parallel(identity, mlp3),\r\n",
    "#     lambda z2, z1: ((z2, z1), z1),\r\n",
    "#     Parallel(Chain([Parallel(identity, nn.Linear(z2_dim, z2_dim)), cat(1), chunk(2, 1), make_normal, output(aux)]), identity),\r\n",
    "#     Parallel(sample, identity),\r\n",
    "#     cat(1),\r\n",
    "#     mlp4,\r\n",
    "#     reshape(-1, *x.size())\r\n",
    "# ])\r\n",
    "\r\n",
    "# x_ = d(z2, z1)\r\n",
    "# F.mse_loss(x_, x[None])"
   ],
   "outputs": [],
   "metadata": {}
  }
 ],
 "metadata": {
  "orig_nbformat": 4,
  "language_info": {
   "name": "python",
   "version": "3.8.10",
   "mimetype": "text/x-python",
   "codemirror_mode": {
    "name": "ipython",
    "version": 3
   },
   "pygments_lexer": "ipython3",
   "nbconvert_exporter": "python",
   "file_extension": ".py"
  },
  "kernelspec": {
   "name": "python3",
   "display_name": "Python 3.8.10 64-bit ('neuro': conda)"
  },
  "interpreter": {
   "hash": "d8080eef275ddaf70dd3e882ff793d6efaa2f0cb1e359f5038b78d18cd70dc3b"
  }
 },
 "nbformat": 4,
 "nbformat_minor": 2
}