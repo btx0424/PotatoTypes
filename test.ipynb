{
 "cells": [
  {
   "cell_type": "code",
   "execution_count": 62,
   "source": [
    "%load_ext autoreload \n",
    "%autoreload 2\n",
    "import torch\n",
    "import torch.nn as nn\n",
    "import torch.nn.functional as F\n",
    "import torch.distributions as dists\n",
    "from src.api import *\n",
    "from tqdm import tqdm"
   ],
   "outputs": [
    {
     "output_type": "stream",
     "name": "stdout",
     "text": [
      "The autoreload extension is already loaded. To reload it, use:\n",
      "  %reload_ext autoreload\n"
     ]
    }
   ],
   "metadata": {}
  },
  {
   "cell_type": "code",
   "execution_count": 63,
   "source": [
    "x = torch.zeros(16, 1, 28, 28)\n",
    "z_dim = 100\n",
    "e = Chain([\n",
    "    nn.Conv2d(1, 8, kernel_size=5, padding=2),\n",
    "    nn.LeakyReLU(),\n",
    "    nn.Conv2d(8, 16, kernel_size=3, stride=2, padding=1),\n",
    "    nn.LeakyReLU(),\n",
    "    nn.Conv2d(16, 32, kernel_size=3, stride=2, padding=1),\n",
    "    nn.LeakyReLU(),\n",
    "    lambda x: torch.flatten(x, start_dim=1),\n",
    "    nn.Linear(7*7*32, 2*z_dim),\n",
    "    lambda x: torch.chunk(x, chunks=2, dim=1),\n",
    "    lambda mean, rho: dists.Normal(mean, 1e-10+torch.log1p(torch.exp(rho)))\n",
    "])\n",
    "\n",
    "d = Chain([\n",
    "    nn.Linear(z_dim, 7*7*32),\n",
    "    nn.LeakyReLU(),\n",
    "    lambda x: torch.reshape(x, (-1, 32, 7, 7)),\n",
    "    nn.ConvTranspose2d(32, 16, kernel_size=4, stride=2, padding=1),\n",
    "    nn.LeakyReLU(),\n",
    "    nn.ConvTranspose2d(16, 8, kernel_size=4, stride=2, padding=1),\n",
    "    nn.LeakyReLU(),\n",
    "    nn.Conv2d(8, 1, kernel_size=3, padding=1)\n",
    "])\n",
    "\n",
    "class VAE(nn.Module):\n",
    "    def __init__(self, z_dim=64, levels=2):\n",
    "        super().__init__()\n",
    "\n",
    "    def sample(self):\n",
    "        in_channels, out_channels = 1, 1\n",
    "        combine = Chain([\n",
    "            lambda z, h: torch.cat((z, h), dim=1),\n",
    "            nn.Conv2d(2*in_channels, in_channels, 1),\n",
    "            nn.LeakyReLU()\n",
    "        ])\n",
    "        upscale = Chain([\n",
    "            nn.ConvTranspose2d()\n",
    "            nn.LeakyReLU()\n",
    "        ])\n",
    "        condition_on = Chain([\n",
    "\n",
    "        ])\n",
    "        Chain([\n",
    "            lambda q, h: (q.rsample(), h),\n",
    "            combine,\n",
    "            upscale,\n",
    "            Split(condition_on, nn.Identity), \n",
    "        ])\n",
    "\n",
    "    "
   ],
   "outputs": [],
   "metadata": {}
  },
  {
   "cell_type": "code",
   "execution_count": 56,
   "source": [
    "from torchvision import datasets, transforms\n",
    "from torch.utils.data import DataLoader\n",
    "transform = transforms.ToTensor()\n",
    "# data_train = datasets.MNIST(root=\"\", train=True, transform=transform)\n",
    "# data_test = datasets.MNIST(root=\"\", train=False, transform=transform)\n",
    "# loader_train = DataLoader(data_train, batch_size=1, shuffle=True)\n",
    "\n",
    "vae = VAE()\n",
    "x = torch.zeros(16, 1, 28, 28)\n",
    "vae(x)"
   ],
   "outputs": [],
   "metadata": {}
  }
 ],
 "metadata": {
  "orig_nbformat": 4,
  "language_info": {
   "name": "python",
   "version": "3.8.10",
   "mimetype": "text/x-python",
   "codemirror_mode": {
    "name": "ipython",
    "version": 3
   },
   "pygments_lexer": "ipython3",
   "nbconvert_exporter": "python",
   "file_extension": ".py"
  },
  "kernelspec": {
   "name": "python3",
   "display_name": "Python 3.8.10 64-bit ('neuro': conda)"
  },
  "interpreter": {
   "hash": "d8080eef275ddaf70dd3e882ff793d6efaa2f0cb1e359f5038b78d18cd70dc3b"
  }
 },
 "nbformat": 4,
 "nbformat_minor": 2
}