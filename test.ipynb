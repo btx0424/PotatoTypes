{
 "cells": [
  {
   "cell_type": "code",
   "execution_count": 1,
   "source": [
    "%load_ext autoreload \n",
    "%autoreload 2\n",
    "import torch\n",
    "import torch.nn as nn\n",
    "import torch.nn.functional as F\n",
    "import torch.distributions as dists\n",
    "import pytorch_lightning as pl\n",
    "from src.api import *\n",
    "from torchvision.utils import make_grid\n",
    "from experiments.vanilla_vae import VAE"
   ],
   "outputs": [],
   "metadata": {}
  },
  {
   "cell_type": "code",
   "execution_count": 2,
   "source": [
    "x = torch.zeros(16, 1, 28, 28)\n",
    "z_dim = 100\n",
    "e = Chain([\n",
    "    nn.Conv2d(1, 16, kernel_size=3, padding=1),\n",
    "    nn.LeakyReLU(),\n",
    "    nn.Conv2d(16, 32, kernel_size=3, stride=2, padding=1),\n",
    "    nn.LeakyReLU(),\n",
    "    nn.Conv2d(32, 64, kernel_size=3, stride=2, padding=1),\n",
    "    nn.LeakyReLU(),\n",
    "    lambda x: torch.flatten(x, start_dim=1),\n",
    "    nn.Linear(7*7*64, 2*z_dim),\n",
    "    lambda x: torch.chunk(x, chunks=2, dim=1),\n",
    "    lambda mean, logstd: dists.Normal(mean, torch.exp(logstd))\n",
    "])\n",
    "\n",
    "d = Chain([\n",
    "    nn.Linear(z_dim, 7*7*64),\n",
    "    nn.LeakyReLU(),\n",
    "    lambda x: torch.reshape(x, (-1, 64, 7, 7)),\n",
    "    nn.ConvTranspose2d(64, 32, kernel_size=4, stride=2, padding=1),\n",
    "    nn.LeakyReLU(),\n",
    "    nn.ConvTranspose2d(32, 16, kernel_size=4, stride=2, padding=1),\n",
    "    nn.LeakyReLU(),\n",
    "    nn.Conv2d(16, 1, kernel_size=3, padding=1),\n",
    "    nn.Sigmoid()\n",
    "])\n",
    "\n",
    "pz = dists.Normal(\n",
    "    torch.zeros(z_dim),\n",
    "    torch.ones(z_dim)\n",
    ")\n",
    "    "
   ],
   "outputs": [],
   "metadata": {}
  },
  {
   "cell_type": "code",
   "execution_count": 3,
   "source": [
    "from torchvision import datasets, transforms\n",
    "from torch.utils.data import DataLoader\n",
    "transform = transforms.ToTensor()\n",
    "data_train = datasets.MNIST(root=\"datasets/\", train=True, transform=transform)\n",
    "data_test = datasets.MNIST(root=\"datasets/\", train=False, transform=transform)\n",
    "train_loader = DataLoader(data_train, batch_size=64, shuffle=True, num_workers=8)\n",
    "\n",
    "model = VAE(e, d, pz)\n",
    "trainer = pl.Trainer(gpus=1)\n",
    "trainer.fit(model, train_loader)"
   ],
   "outputs": [
    {
     "output_type": "stream",
     "name": "stderr",
     "text": [
      "/home/xbt/anaconda3/envs/neuro/lib/python3.8/site-packages/torchvision/datasets/mnist.py:498: UserWarning: The given NumPy array is not writeable, and PyTorch does not support non-writeable tensors. This means you can write to the underlying (supposedly non-writeable) NumPy array using the tensor. You may want to copy the array to protect its data or make it writeable before converting it to a tensor. This type of warning will be suppressed for the rest of this program. (Triggered internally at  /pytorch/torch/csrc/utils/tensor_numpy.cpp:180.)\n",
      "  return torch.from_numpy(parsed.astype(m[2], copy=False)).view(*s)\n",
      "GPU available: True, used: True\n",
      "TPU available: False, using: 0 TPU cores\n",
      "IPU available: False, using: 0 IPUs\n",
      "LOCAL_RANK: 0 - CUDA_VISIBLE_DEVICES: [0,1]\n",
      "\n",
      "  | Name    | Type  | Params\n",
      "----------------------------------\n",
      "0 | encoder | Chain | 650 K \n",
      "1 | decoder | Chain | 357 K \n",
      "----------------------------------\n",
      "1.0 M     Trainable params\n",
      "0         Non-trainable params\n",
      "1.0 M     Total params\n",
      "4.034     Total estimated model params size (MB)\n"
     ]
    },
    {
     "output_type": "display_data",
     "data": {
      "text/plain": [
       "Training: -1it [00:00, ?it/s]"
      ],
      "application/vnd.jupyter.widget-view+json": {
       "version_major": 2,
       "version_minor": 0,
       "model_id": "74b65c6dc3424b31b90b02a7ba9d5751"
      }
     },
     "metadata": {}
    },
    {
     "output_type": "stream",
     "name": "stderr",
     "text": [
      "/home/xbt/anaconda3/envs/neuro/lib/python3.8/site-packages/pytorch_lightning/trainer/trainer.py:1047: UserWarning: Detected KeyboardInterrupt, attempting graceful shutdown...\n",
      "  rank_zero_warn(\"Detected KeyboardInterrupt, attempting graceful shutdown...\")\n"
     ]
    }
   ],
   "metadata": {}
  }
 ],
 "metadata": {
  "orig_nbformat": 4,
  "language_info": {
   "name": "python",
   "version": "3.8.10",
   "mimetype": "text/x-python",
   "codemirror_mode": {
    "name": "ipython",
    "version": 3
   },
   "pygments_lexer": "ipython3",
   "nbconvert_exporter": "python",
   "file_extension": ".py"
  },
  "kernelspec": {
   "name": "python3",
   "display_name": "Python 3.8.10 64-bit ('neuro': conda)"
  },
  "interpreter": {
   "hash": "d8080eef275ddaf70dd3e882ff793d6efaa2f0cb1e359f5038b78d18cd70dc3b"
  }
 },
 "nbformat": 4,
 "nbformat_minor": 2
}