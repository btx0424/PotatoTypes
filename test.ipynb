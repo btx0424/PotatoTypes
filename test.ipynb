{
 "cells": [
  {
   "cell_type": "code",
   "execution_count": 1,
   "source": [
    "%load_ext autoreload \n",
    "%autoreload 2\n",
    "import numpy as np   \n",
    "import matplotlib.pyplot as plt \n",
    "\n",
    "dt = 0.1\n",
    "\n",
    "n, m = 100, 200\n",
    "grid = (n, m)\n",
    "\n",
    "chi = np.zeros((n, m, 3))\n",
    "\n",
    "ux = np.ones((n+1, m))\n",
    "uy = np.zeros((n, m+1))\n",
    "\n",
    "edge_x = np.zeros((n+1, m))\n",
    "edge_y = np.zeros((n, m+1))\n",
    "\n",
    "def calc_C(a, b, d):\n",
    "    result = 0.\n",
    "\n",
    "    if b==0: result = d/a\n",
    "    elif a==0: result = d/b\n",
    "    else:\n",
    "        y1 = d/b\n",
    "        y2 = (d-a)/b\n",
    "        x1 = d/a\n",
    "        x2 = (d-b)/a\n",
    "\n",
    "        if 0<=y1<=1:\n",
    "            if 0<=y2<=1:\n",
    "                result = (2-y1-y2) / 2\n",
    "            elif y2<0:\n",
    "                result = 1 - y1*x1/2\n",
    "            elif y2>1:\n",
    "                result = (1-y1)*x2/2\n",
    "        elif y1<0:\n",
    "            if 0<=y2<=1:\n",
    "                result = 1 - (1-x1)*y2 / 2\n",
    "            elif y2>1:\n",
    "                result = (x1+x2) / 2\n",
    "            else:\n",
    "                result = 1\n",
    "        elif y1>1:\n",
    "            if 0<=y2<=1:\n",
    "                result = (1-x2)*(1-y2)/2\n",
    "            elif y2<0:\n",
    "                result = 1 - (x1+x2) / 2\n",
    "        if b < 0: result = 1.-result\n",
    "    return result\n",
    "\n",
    "def set_C(I, c, nx, ny):\n",
    "    i, j = I\n",
    "    a, b, d = -nx, ny, 0.\n",
    "    if c == 1.:\n",
    "        a, b, d = 1., 1., 0.\n",
    "    elif c == 0.:\n",
    "        a, b, d = 1., 1., 2.\n",
    "    elif b == 0:\n",
    "        d = a*c\n",
    "    elif a == 0:\n",
    "        d = b*c\n",
    "    else:\n",
    "        l, r = 0., 0.\n",
    "        if a/b>0:\n",
    "            r = 1+a/b\n",
    "        else:\n",
    "            l = a/b\n",
    "            r = 1.\n",
    "        m = (l+r)/2\n",
    "        c_ = calc_C(a, b, m)\n",
    "        while r-l > 1e-4:\n",
    "            if c_ < c:\n",
    "                r = m\n",
    "            else:\n",
    "                l = m\n",
    "            m = (l+r)/2\n",
    "            c_ = calc_C(a, b, m)\n",
    "        d = m\n",
    "    return a, b, d"
   ],
   "outputs": [],
   "metadata": {}
  },
  {
   "cell_type": "code",
   "execution_count": 2,
   "source": [
    "a, b, d = 2, -1, 0\n",
    "x = np.linspace(0, 1, 100)\n",
    "y = (d-a*x)/b\n",
    "plt.plot(x, y)\n",
    "plt.grid()\n",
    "plt.xlim(0, 1)\n",
    "plt.ylim(0, 1)\n",
    "\n",
    "c1 = calc_C(a, b, d)\n",
    "a_, b_, d_ = set_C(c1, -a, b)\n",
    "\n",
    "c1, calc_C(a_, b_, d_)"
   ],
   "outputs": [
    {
     "output_type": "execute_result",
     "data": {
      "text/plain": [
       "(0.75, 0.7499923706054688)"
      ]
     },
     "metadata": {},
     "execution_count": 2
    },
    {
     "output_type": "display_data",
     "data": {
      "image/png": "[encoded data removed]",
      "text/plain": [
       "<Figure size 432x288 with 1 Axes>"
      ]
     },
     "metadata": {
      "needs_background": "light"
     }
    }
   ],
   "metadata": {}
  },
  {
   "cell_type": "code",
   "execution_count": 3,
   "source": [
    "def bubble(i, j):\n",
    "    t = np.sqrt((i - grid[0]//2)**2 + (j-grid[1]//2)**2)\n",
    "    t[t<=20] = 0.\n",
    "    t[t<=21] /= 21.\n",
    "    t[t>21] = 1.\n",
    "    return t\n",
    "\n",
    "C = np.fromfunction(bubble, grid)\n",
    "dx, dy = np.gradient(C, edge_order=2)\n",
    "\n",
    "for i, j in np.ndindex(*grid):\n",
    "    chi[i, j] = np.array(set_C(C[i, j], dx[i, j], dy[i, j]))\n",
    "    a, b, d = chi[i, j]\n",
    "    C[i, j] = calc_C(a, b, d)\n",
    "\n",
    "plt.imshow(C)\n",
    "C.sum()"
   ],
   "outputs": [
    {
     "output_type": "execute_result",
     "data": {
      "text/plain": [
       "18705.388605514294"
      ]
     },
     "metadata": {},
     "execution_count": 3
    },
    {
     "output_type": "display_data",
     "data": {
      "image/png": "[encoded data removed]",
      "text/plain": [
       "<Figure size 432x288 with 1 Axes>"
      ]
     },
     "metadata": {
      "needs_background": "light"
     }
    }
   ],
   "metadata": {}
  },
  {
   "cell_type": "code",
   "execution_count": 4,
   "source": [
    "def advect(I):\n",
    "    i, j = I\n",
    "\n",
    "    if C[I] == 1.:\n",
    "        dC = ux[i+1, j] + uy[i, j+1]\n",
    "        if C[(i-1)%100]\n",
    "        C[I] -= dC*dt\n",
    "    elif C[I] > 0.:\n",
    "        a, b, d = chi[I]\n",
    "        dC = 0.\n",
    "        if a == 0:\n",
    "            y = d/b if b>0 else (1-d/b)\n",
    "            dC = y*(ux[i+1, j]-ux[i, j])\n",
    "        elif b == 0:\n",
    "            x = d/a if b>0 else (1-d/a)\n",
    "            dC = x*(uy[i, j+1]-uy[i, j])\n",
    "        else:\n",
    "            y1 = d/b\n",
    "            y2 = (d-a)/b\n",
    "            x1 = d/a\n",
    "            x2 = (d-b)/a\n",
    "            total = ux[i+1, j]-ux[i, j] + uy[i, j+1]-uy[i, j]\n",
    "            if 0<=y1<=1:\n",
    "                if 0<=y2<=1:\n",
    "                    dC = (1-y2)*ux[i+1, j] - (1-y1)*ux[i, j] + uy[i, j+1]\n",
    "                elif y2<0:\n",
    "                    dC = total - (-y1*ux[i, j]-x1*uy[i, j])\n",
    "                elif y2>1:\n",
    "                    dC = -(1-y1)*ux[i, j] + x2*uy[i, j+1]\n",
    "            elif y1<0:\n",
    "                if 0<=y2<=1:\n",
    "                    dC = total - (y2*ux[i+1, j] - (1-x1)*uy[i, j])\n",
    "                elif y2>1:\n",
    "                    dC = x2*uy[i, j+1]-ux[i, j]-x1*uy[i, j]\n",
    "                else:\n",
    "                    dC = 0.\n",
    "            elif y1>1:\n",
    "                if 0<=y2<=1:\n",
    "                    dC = (1-y2)*ux[i+1, j] + (1-x2)*uy[i, j+1]\n",
    "                elif y2<0:\n",
    "                    dC = total - (x2*uy[i, j+1]-x1*uy[i, j])\n",
    "            if b<0: dC = total-dC\n",
    "\n",
    "        C[I] -= dC*dt"
   ],
   "outputs": [],
   "metadata": {}
  },
  {
   "cell_type": "code",
   "execution_count": 5,
   "source": [
    "def step():\n",
    "    for i, j in np.ndindex(*grid):\n",
    "        advect((i, j))\n",
    "\n",
    "    dx, dy = np.gradient(C, edge_order=2)\n",
    "\n",
    "    for i, j in np.ndindex(*grid):\n",
    "        chi[i, j] = np.array(set_C(C[i, j], dx[i, j], dy[i, j]))"
   ],
   "outputs": [],
   "metadata": {}
  },
  {
   "cell_type": "code",
   "execution_count": 18,
   "source": [
    "for _ in range(10):\n",
    "    step()\n",
    "\n",
    "plt.imshow(C)\n",
    "C.sum()"
   ],
   "outputs": [
    {
     "output_type": "execute_result",
     "data": {
      "text/plain": [
       "18663.65163319833"
      ]
     },
     "metadata": {},
     "execution_count": 18
    },
    {
     "output_type": "display_data",
     "data": {
      "image/png": "[encoded data removed]",
      "text/plain": [
       "<Figure size 432x288 with 1 Axes>"
      ]
     },
     "metadata": {
      "needs_background": "light"
     }
    }
   ],
   "metadata": {}
  },
  {
   "cell_type": "code",
   "execution_count": 19,
   "source": [
    "-1 % 10"
   ],
   "outputs": [
    {
     "output_type": "execute_result",
     "data": {
      "text/plain": [
       "9"
      ]
     },
     "metadata": {},
     "execution_count": 19
    }
   ],
   "metadata": {}
  }
 ],
 "metadata": {
  "orig_nbformat": 4,
  "language_info": {
   "name": "python",
   "version": "3.9.5",
   "mimetype": "text/x-python",
   "codemirror_mode": {
    "name": "ipython",
    "version": 3
   },
   "pygments_lexer": "ipython3",
   "nbconvert_exporter": "python",
   "file_extension": ".py"
  },
  "kernelspec": {
   "name": "python3",
   "display_name": "Python 3.9.5 64-bit ('base': conda)"
  },
  "interpreter": {
   "hash": "fb94abd67aa002aa187ead1d4120a8ec4bfee3e4c9494aaf1e01cee1e01ca26c"
  }
 },
 "nbformat": 4,
 "nbformat_minor": 2
}